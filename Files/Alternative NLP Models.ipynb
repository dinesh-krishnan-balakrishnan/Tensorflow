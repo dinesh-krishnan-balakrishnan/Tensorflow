{
 "cells": [
  {
   "cell_type": "markdown",
   "metadata": {},
   "source": [
    "# Natural Langauge Processing: Sentiment Analysis\n",
    "\n",
    "----\n",
    "\n",
    "### Imports"
   ]
  },
  {
   "cell_type": "code",
   "execution_count": 1,
   "metadata": {},
   "outputs": [
    {
     "name": "stderr",
     "output_type": "stream",
     "text": [
      "[nltk_data] Downloading package stopwords to C:\\Users\\Dinesh\n",
      "[nltk_data]     Balakrishnan\\AppData\\Roaming\\nltk_data...\n",
      "[nltk_data]   Package stopwords is already up-to-date!\n"
     ]
    }
   ],
   "source": [
    "import numpy as np\n",
    "import pandas as pd\n",
    "import matplotlib.pyplot as plt\n",
    "import tensorflow as tf\n",
    "\n",
    "from re import sub\n",
    "from sklearn.model_selection import train_test_split\n",
    "\n",
    "# Getting the stopwords dataset from the NLTK Corpus\n",
    "import nltk\n",
    "nltk.download('stopwords')\n",
    "from nltk.corpus import stopwords\n",
    "ignored_words = set(stopwords.words('English'))\n",
    "ignored_words.remove('not')\n",
    "\n",
    "# Transforms strings into numerical tokens.\n",
    "from tensorflow.keras.preprocessing.text import Tokenizer\n",
    "from tensorflow.keras.preprocessing.sequence import pad_sequences"
   ]
  },
  {
   "cell_type": "markdown",
   "metadata": {},
   "source": [
    "----\n",
    "\n",
    "### Preprocessing"
   ]
  },
  {
   "cell_type": "code",
   "execution_count": 2,
   "metadata": {},
   "outputs": [],
   "source": [
    "# Getting the dataset and creating X,y\n",
    "dataset = pd.read_csv('Restaurant_Reviews.tsv', delimiter = '\\t', quoting = 3)\n",
    "X = []\n",
    "y = dataset['Liked']\n",
    "\n",
    "# Preprocessing the reviews.\n",
    "for review in dataset.index:\n",
    "    review = dataset['Review'][review].lower()\n",
    "    review = sub('[^a-z]', ' ', review)\n",
    "\n",
    "    review = review.split()\n",
    "    review = [word for word in review if not word in ignored_words]\n",
    "    review = ' '.join(review)\n",
    "    \n",
    "    X.append(review)\n",
    "\n",
    "# Splitting the dataset\n",
    "X_train, X_test, y_train, y_test = train_test_split(X, y, test_size = 0.15)"
   ]
  },
  {
   "cell_type": "markdown",
   "metadata": {},
   "source": [
    "----\n",
    "\n",
    "### Text Tokenization"
   ]
  },
  {
   "cell_type": "code",
   "execution_count": 3,
   "metadata": {},
   "outputs": [],
   "source": [
    "max_words = 500\n",
    "oov_token = '<OOV>'\n",
    "padding_type = 'post'\n",
    "trunc_type = 'post'\n",
    "max_len = 10\n",
    "embedding_dim = 8\n",
    "\n",
    "# Creating the Word Index\n",
    "tokenizer = Tokenizer(num_words = max_words, oov_token = oov_token)\n",
    "tokenizer.fit_on_texts(X_train)\n",
    "word_index = tokenizer.word_index\n",
    "\n",
    "# Converting X_train and X_test to vectors.\n",
    "X_train, X_test = tokenizer.texts_to_sequences(X_train), tokenizer.texts_to_sequences(X_test)\n",
    "X_train = pad_sequences(X_train, padding = padding_type, truncating = trunc_type, maxlen = max_len)\n",
    "X_test = pad_sequences(X_test, padding = padding_type, truncating = trunc_type, maxlen = max_len)\n",
    "\n",
    "# Converting y_train and y_test to vectors.\n",
    "y_train, y_test = np.expand_dims(y_train, axis = 1), np.expand_dims(y_test, axis = 1)"
   ]
  },
  {
   "cell_type": "markdown",
   "metadata": {},
   "source": [
    "----\n",
    "\n",
    "## Example Models\n",
    "\n",
    "### Long Short-Term Memory (LSTM) Model\n",
    "\n",
    "**LSTM()** is a variation of the RNN that maintains cell state. While the standard RNN model generates a hidden state to affect the next input value when training, the **LSTM()** is modified to remember multiple hidden states from previous nodes so that multiple previous hidden layers may influence the next input value. Additionally, the **Bidirectional()** wrapper ensures that cell state travels in both directions by training two individual LSTMS that transfer cell state in-order or in reverse-order."
   ]
  },
  {
   "cell_type": "code",
   "execution_count": 4,
   "metadata": {},
   "outputs": [],
   "source": [
    "model = tf.keras.models.Sequential([\n",
    "    tf.keras.layers.Embedding((len(word_index) + 1), embedding_dim, input_length = max_len),\n",
    "    # Must specify return_sequences = True if passing output to another RNN\n",
    "    tf.keras.layers.Bidirectional(tf.keras.layers.LSTM(16, return_sequences = True)),\n",
    "    tf.keras.layers.Bidirectional(tf.keras.layers.LSTM(8)),\n",
    "    tf.keras.layers.Dense(4, activation = 'relu'),\n",
    "    tf.keras.layers.Dense(1, activation = 'sigmoid')\n",
    "])"
   ]
  },
  {
   "cell_type": "markdown",
   "metadata": {},
   "source": [
    "### Convolutional Model"
   ]
  },
  {
   "cell_type": "code",
   "execution_count": 5,
   "metadata": {},
   "outputs": [],
   "source": [
    "model = tf.keras.models.Sequential([\n",
    "    tf.keras.layers.Embedding((len(word_index) + 1), embedding_dim, input_length = max_len),\n",
    "    tf.keras.layers.Conv1D(16, 5, activation = 'relu'),\n",
    "    tf.keras.layers.GlobalMaxPooling1D(),\n",
    "    tf.keras.layers.Dense(4, activation = 'relu'),\n",
    "    tf.keras.layers.Dense(1, activation = 'sigmoid')\n",
    "])"
   ]
  },
  {
   "cell_type": "markdown",
   "metadata": {},
   "source": [
    "### LSTM & Convoluational Combination"
   ]
  },
  {
   "cell_type": "code",
   "execution_count": null,
   "metadata": {},
   "outputs": [],
   "source": [
    "model = tf.keras.models.Sequential([\n",
    "    tf.keras.layers.Embedding((len(word_index) + 1), embedding_dim, input_length = max_len),\n",
    "    tf.keras.layers.Dropout(0.2),\n",
    "    tf.keras.layers.Conv1D(64, 5, activation='relu'),\n",
    "    tf.keras.layers.MaxPooling1D(pool_size=4),\n",
    "    tf.keras.layers.LSTM(64),\n",
    "    tf.keras.layers.Dense(1, activation='sigmoid')\n",
    "])\n",
    "\n",
    "model.compile(optimizer = 'adam', loss = 'binary_crossentropy', metrics = ['accuracy'])"
   ]
  },
  {
   "cell_type": "markdown",
   "metadata": {},
   "source": [
    "----\n",
    "\n",
    "### Viewing Model Details"
   ]
  },
  {
   "cell_type": "code",
   "execution_count": 6,
   "metadata": {
    "scrolled": true
   },
   "outputs": [
    {
     "name": "stdout",
     "output_type": "stream",
     "text": [
      "Model: \"sequential_1\"\n",
      "_________________________________________________________________\n",
      "Layer (type)                 Output Shape              Param #   \n",
      "=================================================================\n",
      "embedding_1 (Embedding)      (None, 10, 8)             13696     \n",
      "_________________________________________________________________\n",
      "conv1d (Conv1D)              (None, 6, 128)            5248      \n",
      "_________________________________________________________________\n",
      "global_max_pooling1d (Global (None, 128)               0         \n",
      "_________________________________________________________________\n",
      "dense_2 (Dense)              (None, 4)                 516       \n",
      "_________________________________________________________________\n",
      "dense_3 (Dense)              (None, 1)                 5         \n",
      "=================================================================\n",
      "Total params: 19,465\n",
      "Trainable params: 19,465\n",
      "Non-trainable params: 0\n",
      "_________________________________________________________________\n"
     ]
    }
   ],
   "source": [
    "model.summary()"
   ]
  },
  {
   "cell_type": "markdown",
   "metadata": {},
   "source": [
    "----\n",
    "\n",
    "### Training the Neural Network & Testing"
   ]
  },
  {
   "cell_type": "code",
   "execution_count": 7,
   "metadata": {
    "scrolled": true
   },
   "outputs": [
    {
     "name": "stdout",
     "output_type": "stream",
     "text": [
      "Train on 850 samples, validate on 150 samples\n",
      "Epoch 1/15\n",
      "850/850 - 2s - loss: 0.6925 - accuracy: 0.4976 - val_loss: 0.6889 - val_accuracy: 0.5133\n",
      "Epoch 2/15\n",
      "850/850 - 0s - loss: 0.6846 - accuracy: 0.5518 - val_loss: 0.6792 - val_accuracy: 0.5267\n",
      "Epoch 3/15\n",
      "850/850 - 0s - loss: 0.6586 - accuracy: 0.6506 - val_loss: 0.6517 - val_accuracy: 0.6533\n",
      "Epoch 4/15\n",
      "850/850 - 0s - loss: 0.5978 - accuracy: 0.7306 - val_loss: 0.6198 - val_accuracy: 0.6800\n",
      "Epoch 5/15\n",
      "850/850 - 0s - loss: 0.5241 - accuracy: 0.8282 - val_loss: 0.6135 - val_accuracy: 0.7133\n",
      "Epoch 6/15\n",
      "850/850 - 0s - loss: 0.4715 - accuracy: 0.8882 - val_loss: 0.6220 - val_accuracy: 0.7200\n",
      "Epoch 7/15\n",
      "850/850 - 0s - loss: 0.4320 - accuracy: 0.9165 - val_loss: 0.6452 - val_accuracy: 0.7267\n",
      "Epoch 8/15\n",
      "850/850 - 0s - loss: 0.4003 - accuracy: 0.9365 - val_loss: 0.6688 - val_accuracy: 0.7000\n",
      "Epoch 9/15\n",
      "850/850 - 0s - loss: 0.3785 - accuracy: 0.9447 - val_loss: 0.6968 - val_accuracy: 0.6933\n",
      "Epoch 10/15\n",
      "850/850 - 0s - loss: 0.3576 - accuracy: 0.9435 - val_loss: 0.7186 - val_accuracy: 0.6933\n",
      "Epoch 11/15\n",
      "850/850 - 0s - loss: 0.3422 - accuracy: 0.9624 - val_loss: 0.7507 - val_accuracy: 0.7000\n",
      "Epoch 12/15\n",
      "850/850 - 0s - loss: 0.3315 - accuracy: 0.9612 - val_loss: 0.7706 - val_accuracy: 0.7133\n",
      "Epoch 13/15\n",
      "850/850 - 0s - loss: 0.3201 - accuracy: 0.9647 - val_loss: 0.8345 - val_accuracy: 0.7067\n",
      "Epoch 14/15\n",
      "850/850 - 0s - loss: 0.3116 - accuracy: 0.9741 - val_loss: 0.8293 - val_accuracy: 0.7267\n",
      "Epoch 15/15\n",
      "850/850 - 0s - loss: 0.2840 - accuracy: 0.9729 - val_loss: 0.8252 - val_accuracy: 0.7200\n"
     ]
    }
   ],
   "source": [
    "results =  model.fit(X_train, y_train, validation_data = (X_test, y_test), epochs = 15, verbose = 2)"
   ]
  },
  {
   "cell_type": "markdown",
   "metadata": {},
   "source": [
    "----\n",
    "\n",
    "### Graphing Accuracy & Loss"
   ]
  },
  {
   "cell_type": "code",
   "execution_count": 8,
   "metadata": {
    "scrolled": true
   },
   "outputs": [
    {
     "data": {
      "image/png": "[encoded data removed]",
      "text/plain": [
       "<Figure size 432x288 with 1 Axes>"
      ]
     },
     "metadata": {
      "needs_background": "light"
     },
     "output_type": "display_data"
    },
    {
     "data": {
      "image/png": "[encoded data removed]",
      "text/plain": [
       "<Figure size 432x288 with 1 Axes>"
      ]
     },
     "metadata": {
      "needs_background": "light"
     },
     "output_type": "display_data"
    }
   ],
   "source": [
    "def plot_graphs(history, string):\n",
    "    plt.plot(history[string])\n",
    "    plt.plot(history['val_' + string])\n",
    "    plt.xlabel(\"Epochs\")\n",
    "    plt.ylabel(string)\n",
    "    plt.legend([string, 'val_' + string])\n",
    "    plt.show()\n",
    "\n",
    "plot_graphs(results.history, \"accuracy\")\n",
    "plot_graphs(results.history, \"loss\")"
   ]
  }
 ],
 "metadata": {
  "kernelspec": {
   "display_name": "Python 3",
   "language": "python",
   "name": "python3"
  },
  "language_info": {
   "codemirror_mode": {
    "name": "ipython",
    "version": 3
   },
   "file_extension": ".py",
   "mimetype": "text/x-python",
   "name": "python",
   "nbconvert_exporter": "python",
   "pygments_lexer": "ipython3",
   "version": "3.7.7"
  }
 },
 "nbformat": 4,
 "nbformat_minor": 4
}
