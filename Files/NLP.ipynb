{
 "cells": [
  {
   "cell_type": "markdown",
   "metadata": {},
   "source": [
    "# Natural Langauge Processing: Sentiment Analysis\n",
    "\n",
    "----\n",
    "\n",
    "### Imports"
   ]
  },
  {
   "cell_type": "code",
   "execution_count": 1,
   "metadata": {},
   "outputs": [
    {
     "name": "stderr",
     "output_type": "stream",
     "text": [
      "[nltk_data] Downloading package stopwords to C:\\Users\\Dinesh\n",
      "[nltk_data]     Balakrishnan\\AppData\\Roaming\\nltk_data...\n",
      "[nltk_data]   Package stopwords is already up-to-date!\n"
     ]
    }
   ],
   "source": [
    "import numpy as np\n",
    "import pandas as pd\n",
    "import matplotlib.pyplot as plt\n",
    "import tensorflow as tf\n",
    "\n",
    "from re import sub\n",
    "from sklearn.model_selection import train_test_split\n",
    "\n",
    "# Getting the stopwords dataset from the NLTK Corpus\n",
    "import nltk\n",
    "nltk.download('stopwords')\n",
    "from nltk.corpus import stopwords\n",
    "ignored_words = set(stopwords.words('English'))\n",
    "ignored_words.remove('not')\n",
    "\n",
    "# Transforms strings into numerical tokens.\n",
    "from tensorflow.keras.preprocessing.text import Tokenizer\n",
    "from tensorflow.keras.preprocessing.sequence import pad_sequences"
   ]
  },
  {
   "cell_type": "markdown",
   "metadata": {},
   "source": [
    "----\n",
    "\n",
    "### Preprocessing"
   ]
  },
  {
   "cell_type": "code",
   "execution_count": 2,
   "metadata": {},
   "outputs": [],
   "source": [
    "# Getting the dataset and creating X,y\n",
    "dataset = pd.read_csv('Restaurant_Reviews.tsv', delimiter = '\\t', quoting = 3)\n",
    "X = []\n",
    "y = dataset['Liked']\n",
    "\n",
    "# Preprocessing the reviews.\n",
    "for review in dataset.index:\n",
    "    review = dataset['Review'][review].lower()\n",
    "    review = sub('[^a-z]', ' ', review)\n",
    "\n",
    "    review = review.split()\n",
    "    review = [word for word in review if not word in ignored_words]\n",
    "    review = ' '.join(review)\n",
    "    \n",
    "    X.append(review)\n",
    "\n",
    "# Splitting the dataset\n",
    "X_train, X_test, y_train, y_test = train_test_split(X, y, test_size = 0.15)"
   ]
  },
  {
   "cell_type": "markdown",
   "metadata": {},
   "source": [
    "----\n",
    "\n",
    "### Text Tokenization"
   ]
  },
  {
   "cell_type": "code",
   "execution_count": 3,
   "metadata": {},
   "outputs": [],
   "source": [
    "max_words = 500\n",
    "oov_token = '<OOV>'\n",
    "padding_type = 'post'\n",
    "trunc_type = 'post'\n",
    "max_len = 10\n",
    "embedding_dim = 8\n",
    "\n",
    "# Creating the Word Index\n",
    "tokenizer = Tokenizer(num_words = max_words, oov_token = oov_token)\n",
    "tokenizer.fit_on_texts(X_train)\n",
    "word_index = tokenizer.word_index\n",
    "\n",
    "# Converting X_train and X_test to vectors.\n",
    "X_train, X_test = tokenizer.texts_to_sequences(X_train), tokenizer.texts_to_sequences(X_test)\n",
    "X_train = pad_sequences(X_train, padding = padding_type, truncating = trunc_type, maxlen = max_len)\n",
    "X_test = pad_sequences(X_test, padding = padding_type, truncating = trunc_type, maxlen = max_len)\n",
    "\n",
    "# Converting y_train and y_test to vectors.\n",
    "y_train, y_test = np.expand_dims(y_train, axis = 1), np.expand_dims(y_test, axis = 1)"
   ]
  },
  {
   "cell_type": "markdown",
   "metadata": {},
   "source": [
    "----\n",
    "\n",
    "### Creating the Model\n",
    "\n",
    "_Note:_ **Embedding()** creates higher dimensional vectors to represent individual words. The main purpose of this is to allow similar words to have similar vectors and classification. **GlobalAveragePooling1D()** then averages the vectors created by the data input into the **Embedding()** to create a single output vector. An alternative approach would be to use a **Flatten()** layer and manually specify the resulting dimensions of the output vector. "
   ]
  },
  {
   "cell_type": "code",
   "execution_count": 4,
   "metadata": {},
   "outputs": [],
   "source": [
    "model = tf.keras.models.Sequential([\n",
    "    tf.keras.layers.Embedding((len(word_index) + 1), embedding_dim, input_length = max_len),\n",
    "    tf.keras.layers.GlobalAveragePooling1D(),\n",
    "    tf.keras.layers.Dense(4, activation = 'relu'),\n",
    "    tf.keras.layers.Dense(1, activation = 'sigmoid')\n",
    "])\n",
    "\n",
    "model.compile(optimizer = 'adam', loss = 'binary_crossentropy', metrics = ['accuracy'])"
   ]
  },
  {
   "cell_type": "markdown",
   "metadata": {},
   "source": [
    "----\n",
    "\n",
    "### Viewing Model Details"
   ]
  },
  {
   "cell_type": "code",
   "execution_count": 5,
   "metadata": {},
   "outputs": [
    {
     "name": "stdout",
     "output_type": "stream",
     "text": [
      "Model: \"sequential\"\n",
      "_________________________________________________________________\n",
      "Layer (type)                 Output Shape              Param #   \n",
      "=================================================================\n",
      "embedding (Embedding)        (None, 10, 8)             13744     \n",
      "_________________________________________________________________\n",
      "global_average_pooling1d (Gl (None, 8)                 0         \n",
      "_________________________________________________________________\n",
      "dense (Dense)                (None, 4)                 36        \n",
      "_________________________________________________________________\n",
      "dense_1 (Dense)              (None, 1)                 5         \n",
      "=================================================================\n",
      "Total params: 13,785\n",
      "Trainable params: 13,785\n",
      "Non-trainable params: 0\n",
      "_________________________________________________________________\n"
     ]
    }
   ],
   "source": [
    "model.summary()"
   ]
  },
  {
   "cell_type": "markdown",
   "metadata": {},
   "source": [
    "----\n",
    "\n",
    "### Training the Neural Network & Testing"
   ]
  },
  {
   "cell_type": "code",
   "execution_count": 6,
   "metadata": {
    "scrolled": true
   },
   "outputs": [
    {
     "name": "stdout",
     "output_type": "stream",
     "text": [
      "Train on 850 samples, validate on 150 samples\n",
      "Epoch 1/15\n",
      "850/850 - 1s - loss: 0.6932 - accuracy: 0.4894 - val_loss: 0.6923 - val_accuracy: 0.5200\n",
      "Epoch 2/15\n",
      "850/850 - 0s - loss: 0.6909 - accuracy: 0.6435 - val_loss: 0.6910 - val_accuracy: 0.6133\n",
      "Epoch 3/15\n",
      "850/850 - 0s - loss: 0.6879 - accuracy: 0.6871 - val_loss: 0.6889 - val_accuracy: 0.6067\n",
      "Epoch 4/15\n",
      "850/850 - 0s - loss: 0.6835 - accuracy: 0.7247 - val_loss: 0.6858 - val_accuracy: 0.6533\n",
      "Epoch 5/15\n",
      "850/850 - 0s - loss: 0.6775 - accuracy: 0.7812 - val_loss: 0.6820 - val_accuracy: 0.6800\n",
      "Epoch 6/15\n",
      "850/850 - 0s - loss: 0.6688 - accuracy: 0.8176 - val_loss: 0.6765 - val_accuracy: 0.6800\n",
      "Epoch 7/15\n",
      "850/850 - 0s - loss: 0.6574 - accuracy: 0.8329 - val_loss: 0.6694 - val_accuracy: 0.6933\n",
      "Epoch 8/15\n",
      "850/850 - 0s - loss: 0.6429 - accuracy: 0.8541 - val_loss: 0.6602 - val_accuracy: 0.6933\n",
      "Epoch 9/15\n",
      "850/850 - 0s - loss: 0.6252 - accuracy: 0.8412 - val_loss: 0.6490 - val_accuracy: 0.7000\n",
      "Epoch 10/15\n",
      "850/850 - 0s - loss: 0.6037 - accuracy: 0.8659 - val_loss: 0.6367 - val_accuracy: 0.7000\n",
      "Epoch 11/15\n",
      "850/850 - 0s - loss: 0.5796 - accuracy: 0.8600 - val_loss: 0.6224 - val_accuracy: 0.7400\n",
      "Epoch 12/15\n",
      "850/850 - 0s - loss: 0.5529 - accuracy: 0.8765 - val_loss: 0.6085 - val_accuracy: 0.7200\n",
      "Epoch 13/15\n",
      "850/850 - 0s - loss: 0.5256 - accuracy: 0.8788 - val_loss: 0.5915 - val_accuracy: 0.7533\n",
      "Epoch 14/15\n",
      "850/850 - 0s - loss: 0.4973 - accuracy: 0.8824 - val_loss: 0.5757 - val_accuracy: 0.7467\n",
      "Epoch 15/15\n",
      "850/850 - 0s - loss: 0.4685 - accuracy: 0.8835 - val_loss: 0.5621 - val_accuracy: 0.7467\n"
     ]
    }
   ],
   "source": [
    "results =  model.fit(X_train, y_train, validation_data = (X_test, y_test), epochs = 15, verbose = 2)"
   ]
  },
  {
   "cell_type": "markdown",
   "metadata": {},
   "source": [
    "----\n",
    "\n",
    "### Graphing Accuracy & Loss"
   ]
  },
  {
   "cell_type": "code",
   "execution_count": 7,
   "metadata": {
    "scrolled": true
   },
   "outputs": [
    {
     "data": {
      "image/png": "[encoded data removed]",
      "text/plain": [
       "<Figure size 432x288 with 1 Axes>"
      ]
     },
     "metadata": {
      "needs_background": "light"
     },
     "output_type": "display_data"
    },
    {
     "data": {
      "image/png": "[encoded data removed]",
      "text/plain": [
       "<Figure size 432x288 with 1 Axes>"
      ]
     },
     "metadata": {
      "needs_background": "light"
     },
     "output_type": "display_data"
    }
   ],
   "source": [
    "def plot_graphs(history, string):\n",
    "    plt.plot(history[string])\n",
    "    plt.plot(history['val_' + string])\n",
    "    plt.xlabel(\"Epochs\")\n",
    "    plt.ylabel(string)\n",
    "    plt.legend([string, 'val_' + string])\n",
    "    plt.show()\n",
    "\n",
    "plot_graphs(results.history, \"accuracy\")\n",
    "plot_graphs(results.history, \"loss\")"
   ]
  },
  {
   "cell_type": "markdown",
   "metadata": {},
   "source": [
    "----\n",
    "\n",
    "### Visualizing Word Embeddings\n",
    "\n",
    "_Note:_ Vector and metadata files need to be imported into https://projector.tensorflow.org/ to visualize textual relationship. The below code simply creates these files."
   ]
  },
  {
   "cell_type": "code",
   "execution_count": 8,
   "metadata": {},
   "outputs": [],
   "source": [
    "import io\n",
    "\n",
    "token_index = dict([(value, key) for (key, value) in word_index.items()])\n",
    "weights = model.layers[0].get_weights()[0]\n",
    "\n",
    "vectors = io.open('vecs.tsv', 'w', encoding = 'utf-8')\n",
    "metadata = io.open('meta.tsv', 'w', encoding = 'utf-8')\n",
    "\n",
    "for word_count in range(1, len(word_index)):\n",
    "    word = token_index[word_count]\n",
    "    embeddings = weights[word_count]\n",
    "    vectors.write('\\t'.join([str(value) for value in embeddings]) + '\\n')\n",
    "    metadata.write(word + '\\n')\n",
    "    \n",
    "vectors.close()\n",
    "metadata.close()\n"
   ]
  }
 ],
 "metadata": {
  "kernelspec": {
   "display_name": "Python 3",
   "language": "python",
   "name": "python3"
  },
  "language_info": {
   "codemirror_mode": {
    "name": "ipython",
    "version": 3
   },
   "file_extension": ".py",
   "mimetype": "text/x-python",
   "name": "python",
   "nbconvert_exporter": "python",
   "pygments_lexer": "ipython3",
   "version": "3.7.9"
  }
 },
 "nbformat": 4,
 "nbformat_minor": 4
}
