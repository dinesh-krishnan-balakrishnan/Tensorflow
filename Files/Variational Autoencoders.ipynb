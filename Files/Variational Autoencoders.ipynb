{
 "cells": [
  {
   "cell_type": "markdown",
   "metadata": {},
   "source": [
    "# Variational Autoencoders\n",
    "\n",
    "<img src=\"variational.png\" width=\"400px;\" alt=\"The input layer is inputted to a mean and standard deviation vector to encode the data.\" />\n",
    "\n",
    "### The Problem\n",
    "\n",
    "While **Autoencoders** are able to efficiently extract features from images and discarding noise, they are fairly limited when encoding representations that they haven't been trained on. When using these trained **Autoencoders** for generation, the *latent space* they convert may not be continous or allow for easy interpolation: this will result in a unrealistic generated output.\n",
    "\n",
    "### The Solution\n",
    "\n",
    "If the problem lies with the *latent space* in images, variations of an image need to be produced that transform such *latent space*. **Variational Autoencoders** do this by passing the input layer into a *Mean Vector* and *Standard Deviation* vector. By doing as such, the input layer is transformed into a distribution, which is them sampled to form the *Sampled Latent Vector*. \n",
    "\n",
    "- - - - \n",
    "\n",
    "## The Reparameterization Trick\n",
    "\n",
    "<img src=\"reparameterization.png\" width=\"500px;\" alt=\"Factoring the stochastic component into a variable epsilon.\" />\n",
    "\n",
    "Because the *Sampled Latent Vector* is *stochastic* in nature, *backpropogation* cannot be performed. To fix this, the randomness of the *Sampled Latent Vector* can be determined beforehand and kept track of as a parameter. While the algorithm is still *stochastic*, the *Sampled Latent Vector* can now be recreated. This means that the *loss function* can compare the input and output, which in turn allows for *backpropgation*."
   ]
  }
 ],
 "metadata": {
  "kernelspec": {
   "display_name": "Python 3",
   "language": "python",
   "name": "python3"
  },
  "language_info": {
   "codemirror_mode": {
    "name": "ipython",
    "version": 3
   },
   "file_extension": ".py",
   "mimetype": "text/x-python",
   "name": "python",
   "nbconvert_exporter": "python",
   "pygments_lexer": "ipython3",
   "version": "3.7.7"
  }
 },
 "nbformat": 4,
 "nbformat_minor": 4
}
