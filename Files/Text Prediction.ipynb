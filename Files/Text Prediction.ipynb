{
 "cells": [
  {
   "cell_type": "markdown",
   "metadata": {},
   "source": [
    "# Natural Langauge Processing: Text Prediction\n",
    "\n",
    "----\n",
    "\n",
    "### Imports"
   ]
  },
  {
   "cell_type": "code",
   "execution_count": 1,
   "metadata": {},
   "outputs": [],
   "source": [
    "import numpy as np\n",
    "import pandas as pd\n",
    "import matplotlib.pyplot as plt\n",
    "import tensorflow as tf\n",
    "\n",
    "from re import sub\n",
    "from sklearn.model_selection import train_test_split\n",
    "\n",
    "# Transforms strings into numerical tokens.\n",
    "from tensorflow.keras.preprocessing.text import Tokenizer\n",
    "from tensorflow.keras.preprocessing.sequence import pad_sequences"
   ]
  },
  {
   "cell_type": "markdown",
   "metadata": {},
   "source": [
    "----\n",
    "\n",
    "### Preprocessing"
   ]
  },
  {
   "cell_type": "code",
   "execution_count": 2,
   "metadata": {},
   "outputs": [],
   "source": [
    "# Getting the dataset and creating X,y\n",
    "dataset = pd.read_csv('Restaurant_Reviews.tsv', delimiter = '\\t', quoting = 3)\n",
    "corpus = []\n",
    "\n",
    "# Preprocessing the reviews.\n",
    "for review in dataset.index:\n",
    "    review = dataset['Review'][review].lower()\n",
    "    review = sub('[^a-z]', ' ', review)\n",
    "\n",
    "    review = review.split()    \n",
    "    for index in range(1, len(review)):\n",
    "        corpus.append(review[:index + 1])"
   ]
  },
  {
   "cell_type": "markdown",
   "metadata": {},
   "source": [
    "----\n",
    "\n",
    "### Text Tokenization"
   ]
  },
  {
   "cell_type": "code",
   "execution_count": 3,
   "metadata": {},
   "outputs": [],
   "source": [
    "max_words = 500\n",
    "oov_token = '<OOV>'\n",
    "padding_type = 'pre'\n",
    "embedding_dim = 8\n",
    "\n",
    "# Creating the Word Index\n",
    "tokenizer = Tokenizer(num_words = max_words, oov_token = oov_token)\n",
    "tokenizer.fit_on_texts(corpus)\n",
    "word_index = tokenizer.word_index\n",
    "\n",
    "# Defining Input and Word Index Length\n",
    "max_len = max(len(review) for review in corpus) - 1\n",
    "total_words = len(word_index) + 1\n",
    "\n",
    "# Creating X and y\n",
    "corpus = tokenizer.texts_to_sequences(corpus)\n",
    "X = [review[:-1] for review in corpus]\n",
    "y = [review[-1:] for review in corpus]\n",
    "\n",
    "X = pad_sequences(X, padding = padding_type, maxlen = max_len)\n",
    "y = tf.keras.utils.to_categorical(y, num_classes = total_words)"
   ]
  },
  {
   "cell_type": "markdown",
   "metadata": {},
   "source": [
    "----\n",
    "\n",
    "### Creating the Model"
   ]
  },
  {
   "cell_type": "code",
   "execution_count": 4,
   "metadata": {},
   "outputs": [],
   "source": [
    "model = tf.keras.models.Sequential([\n",
    "    tf.keras.layers.Embedding(total_words, 64, input_length = max_len),\n",
    "    tf.keras.layers.Bidirectional(tf.keras.layers.LSTM(64)),\n",
    "    tf.keras.layers.Dense(total_words / 2, activation = 'relu'),\n",
    "    tf.keras.layers.Dense(total_words, activation = 'sigmoid')\n",
    "])\n",
    "\n",
    "model.compile(optimizer = 'adam', loss = 'categorical_crossentropy', metrics = ['accuracy'])"
   ]
  },
  {
   "cell_type": "markdown",
   "metadata": {},
   "source": [
    "----\n",
    "\n",
    "### Viewing Model Details"
   ]
  },
  {
   "cell_type": "code",
   "execution_count": 5,
   "metadata": {
    "scrolled": false
   },
   "outputs": [
    {
     "name": "stdout",
     "output_type": "stream",
     "text": [
      "Model: \"sequential\"\n",
      "_________________________________________________________________\n",
      "Layer (type)                 Output Shape              Param #   \n",
      "=================================================================\n",
      "embedding (Embedding)        (None, 31, 64)            129536    \n",
      "_________________________________________________________________\n",
      "bidirectional (Bidirectional (None, 128)               66048     \n",
      "_________________________________________________________________\n",
      "dense (Dense)                (None, 1012)              130548    \n",
      "_________________________________________________________________\n",
      "dense_1 (Dense)              (None, 2024)              2050312   \n",
      "=================================================================\n",
      "Total params: 2,376,444\n",
      "Trainable params: 2,376,444\n",
      "Non-trainable params: 0\n",
      "_________________________________________________________________\n"
     ]
    }
   ],
   "source": [
    "model.summary()"
   ]
  },
  {
   "cell_type": "markdown",
   "metadata": {},
   "source": [
    "----\n",
    "\n",
    "### Training the Neural Network & Testing"
   ]
  },
  {
   "cell_type": "code",
   "execution_count": 6,
   "metadata": {
    "scrolled": true
   },
   "outputs": [
    {
     "name": "stdout",
     "output_type": "stream",
     "text": [
      "Train on 10040 samples\n",
      "Epoch 1/50\n",
      "10040/10040 [==============================] - 6s 589us/sample - loss: 5.2385 - accuracy: 0.2012\n",
      "Epoch 2/50\n",
      "10040/10040 [==============================] - 2s 224us/sample - loss: 4.7413 - accuracy: 0.2018\n",
      "Epoch 3/50\n",
      "10040/10040 [==============================] - 2s 225us/sample - loss: 4.4816 - accuracy: 0.2018\n",
      "Epoch 4/50\n",
      "10040/10040 [==============================] - 2s 224us/sample - loss: 4.2035 - accuracy: 0.2018\n",
      "Epoch 5/50\n",
      "10040/10040 [==============================] - 2s 224us/sample - loss: 4.0104 - accuracy: 0.2018\n",
      "Epoch 6/50\n",
      "10040/10040 [==============================] - 2s 224us/sample - loss: 3.8774 - accuracy: 0.2106\n",
      "Epoch 7/50\n",
      "10040/10040 [==============================] - 2s 224us/sample - loss: 3.7572 - accuracy: 0.2348\n",
      "Epoch 8/50\n",
      "10040/10040 [==============================] - 2s 224us/sample - loss: 3.6424 - accuracy: 0.2441\n",
      "Epoch 9/50\n",
      "10040/10040 [==============================] - 2s 224us/sample - loss: 3.5333 - accuracy: 0.2527\n",
      "Epoch 10/50\n",
      "10040/10040 [==============================] - 2s 226us/sample - loss: 3.4106 - accuracy: 0.2553\n",
      "Epoch 11/50\n",
      "10040/10040 [==============================] - 3s 272us/sample - loss: 3.2837 - accuracy: 0.2692\n",
      "Epoch 12/50\n",
      "10040/10040 [==============================] - 2s 248us/sample - loss: 3.1524 - accuracy: 0.2774\n",
      "Epoch 13/50\n",
      "10040/10040 [==============================] - 2s 245us/sample - loss: 3.0162 - accuracy: 0.2873\n",
      "Epoch 14/50\n",
      "10040/10040 [==============================] - 2s 244us/sample - loss: 2.8672 - accuracy: 0.2953\n",
      "Epoch 15/50\n",
      "10040/10040 [==============================] - 2s 246us/sample - loss: 2.7197 - accuracy: 0.3134\n",
      "Epoch 16/50\n",
      "10040/10040 [==============================] - 3s 254us/sample - loss: 2.5609 - accuracy: 0.3353\n",
      "Epoch 17/50\n",
      "10040/10040 [==============================] - 3s 250us/sample - loss: 2.3913 - accuracy: 0.3606\n",
      "Epoch 18/50\n",
      "10040/10040 [==============================] - 2s 243us/sample - loss: 2.2161 - accuracy: 0.3946\n",
      "Epoch 19/50\n",
      "10040/10040 [==============================] - 2s 245us/sample - loss: 2.0390 - accuracy: 0.4307\n",
      "Epoch 20/50\n",
      "10040/10040 [==============================] - 2s 245us/sample - loss: 1.8686 - accuracy: 0.4755\n",
      "Epoch 21/50\n",
      "10040/10040 [==============================] - 2s 245us/sample - loss: 1.7077 - accuracy: 0.5157\n",
      "Epoch 22/50\n",
      "10040/10040 [==============================] - 2s 244us/sample - loss: 1.5539 - accuracy: 0.5652\n",
      "Epoch 23/50\n",
      "10040/10040 [==============================] - 2s 245us/sample - loss: 1.4162 - accuracy: 0.5951\n",
      "Epoch 24/50\n",
      "10040/10040 [==============================] - 3s 249us/sample - loss: 1.2897 - accuracy: 0.6408\n",
      "Epoch 25/50\n",
      "10040/10040 [==============================] - 2s 247us/sample - loss: 1.1820 - accuracy: 0.6721\n",
      "Epoch 26/50\n",
      "10040/10040 [==============================] - 3s 270us/sample - loss: 1.0772 - accuracy: 0.7020\n",
      "Epoch 27/50\n",
      "10040/10040 [==============================] - 3s 272us/sample - loss: 0.9921 - accuracy: 0.7310\n",
      "Epoch 28/50\n",
      "10040/10040 [==============================] - 3s 271us/sample - loss: 0.9150 - accuracy: 0.7523\n",
      "Epoch 29/50\n",
      "10040/10040 [==============================] - 3s 257us/sample - loss: 0.8492 - accuracy: 0.7734\n",
      "Epoch 30/50\n",
      "10040/10040 [==============================] - 3s 255us/sample - loss: 0.7857 - accuracy: 0.7904\n",
      "Epoch 31/50\n",
      "10040/10040 [==============================] - 3s 287us/sample - loss: 0.7352 - accuracy: 0.8072\n",
      "Epoch 32/50\n",
      "10040/10040 [==============================] - 3s 259us/sample - loss: 0.6913 - accuracy: 0.8190\n",
      "Epoch 33/50\n",
      "10040/10040 [==============================] - 3s 260us/sample - loss: 0.6487 - accuracy: 0.8314\n",
      "Epoch 34/50\n",
      "10040/10040 [==============================] - 3s 257us/sample - loss: 0.6217 - accuracy: 0.8361\n",
      "Epoch 35/50\n",
      "10040/10040 [==============================] - 3s 257us/sample - loss: 0.5944 - accuracy: 0.8450\n",
      "Epoch 36/50\n",
      "10040/10040 [==============================] - 3s 257us/sample - loss: 0.5712 - accuracy: 0.8494\n",
      "Epoch 37/50\n",
      "10040/10040 [==============================] - 3s 261us/sample - loss: 0.5564 - accuracy: 0.8522\n",
      "Epoch 38/50\n",
      "10040/10040 [==============================] - 3s 254us/sample - loss: 0.5369 - accuracy: 0.8556\n",
      "Epoch 39/50\n",
      "10040/10040 [==============================] - 3s 259us/sample - loss: 0.5229 - accuracy: 0.8610\n",
      "Epoch 40/50\n",
      "10040/10040 [==============================] - 3s 255us/sample - loss: 0.5064 - accuracy: 0.8630\n",
      "Epoch 41/50\n",
      "10040/10040 [==============================] - 3s 278us/sample - loss: 0.5107 - accuracy: 0.8624\n",
      "Epoch 42/50\n",
      "10040/10040 [==============================] - 3s 286us/sample - loss: 0.4863 - accuracy: 0.8661\n",
      "Epoch 43/50\n",
      "10040/10040 [==============================] - 3s 265us/sample - loss: 0.4793 - accuracy: 0.8675\n",
      "Epoch 44/50\n",
      "10040/10040 [==============================] - 3s 262us/sample - loss: 0.4777 - accuracy: 0.8666\n",
      "Epoch 45/50\n",
      "10040/10040 [==============================] - 3s 259us/sample - loss: 0.4727 - accuracy: 0.8685\n",
      "Epoch 46/50\n",
      "10040/10040 [==============================] - 3s 258us/sample - loss: 0.4681 - accuracy: 0.8642\n",
      "Epoch 47/50\n",
      "10040/10040 [==============================] - 3s 260us/sample - loss: 0.4672 - accuracy: 0.8646\n",
      "Epoch 48/50\n",
      "10040/10040 [==============================] - 3s 259us/sample - loss: 0.4758 - accuracy: 0.8645\n",
      "Epoch 49/50\n",
      "10040/10040 [==============================] - 3s 259us/sample - loss: 0.4639 - accuracy: 0.8652\n",
      "Epoch 50/50\n",
      "10040/10040 [==============================] - 3s 259us/sample - loss: 0.4527 - accuracy: 0.8672\n"
     ]
    }
   ],
   "source": [
    "results =  model.fit(X, y, epochs = 50)"
   ]
  },
  {
   "cell_type": "markdown",
   "metadata": {},
   "source": [
    "----\n",
    "\n",
    "### Predicting Text"
   ]
  },
  {
   "cell_type": "code",
   "execution_count": 7,
   "metadata": {},
   "outputs": [
    {
     "name": "stdout",
     "output_type": "stream",
     "text": [
      "The selection on the menu was great and so were the prices\n"
     ]
    }
   ],
   "source": [
    "seed_text = 'The selection on the menu was great and so were'\n",
    "next_words = 2\n",
    "\n",
    "for _ in range(next_words):\n",
    "    tokenized_text = tokenizer.texts_to_sequences([seed_text])[0]\n",
    "    token_list = pad_sequences([tokenized_text], maxlen = max_len, padding = padding_type)\n",
    "    prediction = model.predict_classes(token_list)\n",
    "    \n",
    "    for word, index in word_index.items():\n",
    "        if index == prediction:\n",
    "            seed_text += (' ' + word)\n",
    "            break\n",
    "            \n",
    "print(seed_text)"
   ]
  }
 ],
 "metadata": {
  "kernelspec": {
   "display_name": "Python 3",
   "language": "python",
   "name": "python3"
  },
  "language_info": {
   "codemirror_mode": {
    "name": "ipython",
    "version": 3
   },
   "file_extension": ".py",
   "mimetype": "text/x-python",
   "name": "python",
   "nbconvert_exporter": "python",
   "pygments_lexer": "ipython3",
   "version": "3.7.7"
  }
 },
 "nbformat": 4,
 "nbformat_minor": 4
}
